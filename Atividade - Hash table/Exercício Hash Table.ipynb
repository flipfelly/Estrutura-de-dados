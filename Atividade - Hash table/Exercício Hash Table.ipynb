{
 "cells": [
  {
   "cell_type": "markdown",
   "id": "b9688999",
   "metadata": {},
   "source": [
    "## Hash Table - 1 e 2\n",
    "- Prática de implementação de uma hash table que armazene n objetos com encadeamento separado duplo."
   ]
  },
  {
   "cell_type": "code",
   "execution_count": 207,
   "id": "4631f13f",
   "metadata": {},
   "outputs": [],
   "source": [
    "class HashTable:  #implementação de uma hash table com Encadeamento Separado (Separate chaining )\n",
    "    def __init__(self,n):\n",
    "        self.size_1 = 10\n",
    "        self.size_2 = n//10 #nivel_2\n",
    "        self.tab_1 = [None]*self.size_1\n",
    "        \n",
    "    def hash_1(self, key): #função hash nivel 1\n",
    "        return key%self.size_1\n",
    "    \n",
    "    def hash_2(self, key): # função hash nivel 2\n",
    "        return key%self.size_2\n",
    "    \n",
    "    def __getitem__(self, key): #função de procura \n",
    "        indice_1 = self.hash_1(key)\n",
    "        if self.tab_1[indice_1] is not None:\n",
    "            indice_2 = self.hash_2(key)\n",
    "            if self.tab_1[indice_1][indice_2] is not None:\n",
    "                for k, v in self.tab_1[indice_1][indice_2]:\n",
    "                    if k == key:\n",
    "                        return v\n",
    "        return None\n",
    "    \n",
    "    def inserir(self, key, value):\n",
    "        index_1 = self.hash_1(key)\n",
    "        index_2 = self.hash_2(key)\n",
    "\n",
    "        if self.tab_1[index_1] is None:\n",
    "            # Crie a tabela do segundo nível se ainda não existir\n",
    "            self.tab_1[index_1] = [[] for _ in range(self.size_2)]\n",
    "\n",
    "        self.tab_1[index_1][index_2].append((key, value))\n",
    "        \n",
    "    def print(self):\n",
    "        print(\"Tabela Hash:\")\n",
    "        for i, level2 in enumerate(self.tab_1):\n",
    "                if level2 is not None: #Mostra apenas os que não estão vazios\n",
    "                    print(f\"Nível 1, Índice {i}:\", end=\" \")\n",
    "                    for j, sublist in enumerate(level2):\n",
    "                        if sublist:\n",
    "                            print(f\"Nível2, Indice {j}: {sublist}\", end=\"  \")\n",
    "                    print()"
   ]
  },
  {
   "cell_type": "code",
   "execution_count": 208,
   "id": "8d5b2838",
   "metadata": {},
   "outputs": [
    {
     "name": "stdout",
     "output_type": "stream",
     "text": [
      "Tabela Hash:\n",
      "Nível 1, Índice 3: Nível2, Indice 0: [(43, 'Clay')]  \n",
      "Nível 1, Índice 5: Nível2, Indice 0: [(5, 'Felipe'), (15, 'Mary')]  \n"
     ]
    },
    {
     "data": {
      "text/plain": [
       "'Mary'"
      ]
     },
     "execution_count": 208,
     "metadata": {},
     "output_type": "execute_result"
    }
   ],
   "source": [
    "\n",
    "hash_table = HashTable(10) #10 é o valor dos n objetos a serem registrados\n",
    "hash_table.inserir(5, 'Felipe')\n",
    "hash_table.inserir(15, 'Mary')\n",
    "hash_table.inserir(43, 'Clay')\n",
    "\n",
    "hash_table.print()\n",
    "\n",
    "hash_table[15]#mostra o valor correspondente a 15 \"Mary\""
   ]
  },
  {
   "cell_type": "markdown",
   "id": "f77161ea",
   "metadata": {},
   "source": [
    "## Testes "
   ]
  },
  {
   "cell_type": "code",
   "execution_count": 185,
   "id": "28ae57d8",
   "metadata": {},
   "outputs": [],
   "source": [
    "class HashTable:  #implementação de uma hash table com Encadeamento Separado (Separate chaining )\n",
    "    def __init__(self,n):\n",
    "        self.size_1 = 10\n",
    "        self.size_2 = n//10\n",
    "        self.tab_1 = [None]*self.size_1\n",
    "      \n",
    "        \n",
    "    def hash_1(self, key): #função hash nivel 1\n",
    "        hash = 0\n",
    "        for char in key:\n",
    "            hash += ord(char)\n",
    "        return hash % self.size_1\n",
    "    \n",
    "    def hash_2(self, key): # função hash nivel 2\n",
    "        hash = 0\n",
    "        for char in key:\n",
    "            hash += ord(char)\n",
    "        return 5*hash % self.size_2\n",
    "    \n",
    "    def __getitem__(self, key): #função de procura \n",
    "        indice_1 = self.hash_1(key)\n",
    "        if self.tab_1[indice_1] is not None:\n",
    "            indice_2 = self.hash_2(key)\n",
    "            if self.tab_1[indice_1][indice_2] is not None:\n",
    "                for k, v in self.tab_1[indice_1][indice_2]:\n",
    "                    if k == key:\n",
    "                        return v\n",
    "        return None\n",
    "    \n",
    "    def inserir(self, key, value):\n",
    "        index_1 = self.hash_1(key)\n",
    "        index_2 = self.hash_2(key)\n",
    "\n",
    "        if self.tab_1[index_1] is None:\n",
    "            # Crie a tabela do segundo nível se ainda não existir\n",
    "            self.tab_1[index_1] = [[] for _ in range(self.size_2)]\n",
    "\n",
    "        self.tab_1[index_1][index_2].append((key, value))\n",
    "        \n",
    "    def print(self):\n",
    "        print(\"Tabela Hash:\")\n",
    "        for i, level2 in enumerate(self.tab_1):\n",
    "                if level2 is not None: #Mostra apenas os que não estão vazios\n",
    "                    print(f\"Nível 1, Índice {i}:\", end=\" \")\n",
    "                    for j, sublist in enumerate(level2):\n",
    "                        if sublist:\n",
    "                            print(f\"Nível2, Indice {j}: {sublist}\", end=\"  \")\n",
    "                    print()"
   ]
  },
  {
   "cell_type": "code",
   "execution_count": 186,
   "id": "ed158e5f",
   "metadata": {},
   "outputs": [
    {
     "name": "stdout",
     "output_type": "stream",
     "text": [
      "Tabela Hash:\n",
      "Nível 1, Índice 0: Nível2, Indice 0: [('Água', <__main__.Aluno object at 0x00000155A1AD8DC0>)]  \n",
      "Nível 1, Índice 6: Nível2, Indice 0: [('Refrigerante', <__main__.Aluno object at 0x00000155A1AD8970>), ('Bolo', <__main__.Aluno object at 0x00000155A1AD8C40>)]  \n"
     ]
    }
   ],
   "source": [
    "class Produtos:\n",
    "    def __init__(self, codigo, produto):\n",
    "        self.codigo = codigo\n",
    "        self.produto = produto\n",
    "   \n",
    "    def to_string(self):\n",
    "        return self.codigo + \" - \" + str(self.produto)\n",
    "    \n",
    "p1 = Produtos(15,\"Refrigerante\")\n",
    "p2 = Produtos(13,\"Bolo\")   \n",
    "p3 = Produtos(4,\"Água\")\n",
    "\n",
    "ht = HashTable(10)\n",
    "ht.inserir(p1.produto, a1)\n",
    "ht.inserir(p2.produto, a2)\n",
    "ht.inserir(p3.produto, a3)\n",
    "\n",
    "ht.print()"
   ]
  },
  {
   "cell_type": "code",
   "execution_count": null,
   "id": "baa31b4c",
   "metadata": {},
   "outputs": [],
   "source": []
  }
 ],
 "metadata": {
  "kernelspec": {
   "display_name": "Python 3 (ipykernel)",
   "language": "python",
   "name": "python3"
  },
  "language_info": {
   "codemirror_mode": {
    "name": "ipython",
    "version": 3
   },
   "file_extension": ".py",
   "mimetype": "text/x-python",
   "name": "python",
   "nbconvert_exporter": "python",
   "pygments_lexer": "ipython3",
   "version": "3.9.13"
  }
 },
 "nbformat": 4,
 "nbformat_minor": 5
}
