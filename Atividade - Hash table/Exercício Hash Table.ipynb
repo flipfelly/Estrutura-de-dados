{
 "cells": [
  {
   "cell_type": "markdown",
   "id": "ae361e56",
   "metadata": {},
   "source": [
    "## Hash Table - Parte 1 \n",
    "- Prática de implementação de uma hash table que armazene n objetos com encadeamento separado duplo."
   ]
  },
  {
   "cell_type": "code",
   "execution_count": 61,
   "id": "bf384420",
   "metadata": {},
   "outputs": [],
   "source": [
    "class HashTable:  #implementação de uma hash table com Encadeamento Separado (Separate chaining )\n",
    "    def __init__(self):\n",
    "        self.MAX = 10\n",
    "        self.arr = [[] for i in range(self.MAX)]\n",
    "        \n",
    "    def get_hash(self, key): #função hash\n",
    "        hash = 0\n",
    "        for char in key:\n",
    "            hash += ord(char)\n",
    "        return hash % self.MAX\n",
    "    \n",
    "    def getit(self, key):\n",
    "        arr_index = self.get_hash(key)\n",
    "        for kv in self.arr[arr_index]:\n",
    "            if kv[0] == key:\n",
    "                return kv[1]\n",
    "            \n",
    "    def setit(self, key, val):\n",
    "        '''h = self.get_hash(key)\n",
    "        encontrou = False\n",
    "        for index, element in enumerate(self.arr[h]):\n",
    "            if len(element)==2 and element[0] == key:\n",
    "                self.arr[h][idx] = (key,val)\n",
    "                encontrou = True\n",
    "        if not encontrou:\n",
    "            self.arr[h].append((key,val))'''\n",
    "        pos = self.get_hash(key)\n",
    "        self.T[pos].append(value)\n",
    "        \n",
    "    def __delitem__(self, key):\n",
    "        arr_index = self.get_hash(key)\n",
    "        for index, kv in enumerate(self.arr[arr_index]):\n",
    "            if kv[0] == key:\n",
    "                print(\"del\",index)\n",
    "                del self.arr[arr_index][index]\n",
    "        "
   ]
  },
  {
   "cell_type": "code",
   "execution_count": 52,
   "id": "9022d68f",
   "metadata": {},
   "outputs": [],
   "source": [
    "t = HashTable()\n",
    "t[\"Matheus\"] = 31\n",
    "t[\"João\"] = 12\n",
    "t[\"Mariana\"] = 19\n",
    "t[\"felly\"] = 19\n",
    "t[\"Marcelo\"] = 21"
   ]
  },
  {
   "cell_type": "code",
   "execution_count": 53,
   "id": "b02e8991",
   "metadata": {},
   "outputs": [
    {
     "data": {
      "text/plain": [
       "[[('felly', 19)],\n",
       " [],\n",
       " [],\n",
       " [('João', 12)],\n",
       " [],\n",
       " [],\n",
       " [],\n",
       " [('Matheus', 31), ('Mariana', 19), ('Marcelo', 21)],\n",
       " [],\n",
       " []]"
      ]
     },
     "execution_count": 53,
     "metadata": {},
     "output_type": "execute_result"
    }
   ],
   "source": [
    "t.arr"
   ]
  },
  {
   "cell_type": "code",
   "execution_count": null,
   "id": "eb209f30",
   "metadata": {},
   "outputs": [],
   "source": [
    "class HashTable:  #Hash Table sem encadeamento separado\n",
    "    def __init__(self):\n",
    "        self.MAX = 10\n",
    "        self.arr = [None for i in range(self.MAX)]\n",
    "        \n",
    "    def get_hash(self, key):\n",
    "        hash = 0\n",
    "        for char in key:\n",
    "            hash += ord(char)\n",
    "        return hash % self.MAX\n",
    "    \n",
    "    def __getitem__(self, index):\n",
    "        h = self.get_hash(index)\n",
    "        return self.arr[h]\n",
    "    \n",
    "    def __setitem__(self, key, val):\n",
    "        h = self.get_hash(key)\n",
    "        self.arr[h] = val    "
   ]
  }
 ],
 "metadata": {
  "kernelspec": {
   "display_name": "Python 3 (ipykernel)",
   "language": "python",
   "name": "python3"
  },
  "language_info": {
   "codemirror_mode": {
    "name": "ipython",
    "version": 3
   },
   "file_extension": ".py",
   "mimetype": "text/x-python",
   "name": "python",
   "nbconvert_exporter": "python",
   "pygments_lexer": "ipython3",
   "version": "3.9.13"
  }
 },
 "nbformat": 4,
 "nbformat_minor": 5
}
